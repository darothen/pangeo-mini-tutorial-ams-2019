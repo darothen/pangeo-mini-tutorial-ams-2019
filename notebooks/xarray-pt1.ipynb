{
 "cells": [
  {
   "cell_type": "markdown",
   "metadata": {},
   "source": [
    "# Tutorial: Moving from Single Jobs to Many Nodes: Dask, X-Array, and Pangeo, Part 1\n",
    "\n",
    "This is the first of a two notebook series which introduces the reader to basic concepts related to moving basic xarray workflows from single-machine to many-machine systems. This material is adapted from the excellent tutorial developed by [Ryan Abernathey, Joe Hamman, and Scott Henderson from the AGU 2018 Fall Meeting](https://github.com/pangeo-data/pangeo-tutorial-agu-2018/)."
   ]
  },
  {
   "cell_type": "markdown",
   "metadata": {},
   "source": [
    "# Xarray for multidimensional labeled data\n",
    "\n",
    "Xarray is designed to make it easier to work with with _labeled multidimensional data_. By _multidimensional data_ (also often called _N-dimensional_), we mean data with many independent dimensions or axes. For example, we might represent Earth's surface temperature $T$ as a three dimensional variable\n",
    "\n",
    "$$ T(x, y, t) $$\n",
    "\n",
    "where $x$ and $y$ are spatial dimensions and and $t$ is time. By _labeled_, we mean data that has metadata associated with it describing the names and relationships between the variables. The cartoon below shows a \"data cube\" schematic dataset with temperature and preciptation sharing the same three dimensions, plus longitude and latitude as auxilliary coordinates.\n",
    "\n",
    "![xarray data model](https://github.com/pydata/xarray/raw/master/doc/_static/dataset-diagram.png)"
   ]
  },
  {
   "cell_type": "markdown",
   "metadata": {},
   "source": [
    "--- \n",
    "\n",
    "Initial setup matter"
   ]
  },
  {
   "cell_type": "code",
   "execution_count": null,
   "metadata": {
    "collapsed": true
   },
   "outputs": [],
   "source": [
    "%matplotlib inline\n",
    "from matplotlib import pyplot as plt\n",
    "plt.style.use(['seaborn-ticks', 'seaborn-talk'])\n",
    "\n",
    "import numpy as np\n",
    "import xarray as xr"
   ]
  },
  {
   "cell_type": "markdown",
   "metadata": {},
   "source": [
    "## Sample geospatial data\n",
    "\n",
    "One of the major applications that `xarray` is used for within the geosciences community is for interacting with gridded datasets, such as those common in the atmospheric, oceanographic, and climate sciences. Often times, analyses, model outputs or other datasets are distributed in a binary format such as NetCDF; xarray's core data structures can natively read and understand these files, and provides simple tools for manipulating their underlying data.\n",
    "\n",
    "To illustrate this, we'll go ahead and load a NOAA ERSST sea surface temperature analysis dataset, which has been pre-downloaded onto this Binder machine."
   ]
  },
  {
   "cell_type": "code",
   "execution_count": null,
   "metadata": {},
   "outputs": [],
   "source": [
    "ds = xr.open_dataset('../data/sst/NOAA_NCDC_ERSST_v3b_SST-1960.nc')\n",
    "ds"
   ]
  },
  {
   "cell_type": "markdown",
   "metadata": {},
   "source": [
    "### Datasets\n",
    "\n",
    "When we load this file, we're retuend a special data structure called a `Dataset`. What is a dataset? A Dataset is simply an object wihich holds many DataArrays which potentially can share coordinates.\n",
    "\n",
    "Datasets have three main elements:\n",
    "- Data variables\n",
    "- Coordiantes (which provide labels and other ancillary information about the data variables)\n",
    "- Attributes (additional metadata for the dataset)\n",
    "\n",
    "This dataset only contains one variable (`sst`), which we can access in the following two ways"
   ]
  },
  {
   "cell_type": "code",
   "execution_count": null,
   "metadata": {},
   "outputs": [],
   "source": [
    "# both do the exact same thing\n",
    "\n",
    "# dictionary syntax\n",
    "sst = ds['sst']\n",
    "\n",
    "# attribute syntax\n",
    "sst = ds.sst\n",
    "\n",
    "sst"
   ]
  },
  {
   "cell_type": "markdown",
   "metadata": {},
   "source": [
    "### Multidimensional Indexing\n",
    "\n",
    "In this example, we take advantage of the fact that xarray understands time to select a particular date"
   ]
  },
  {
   "cell_type": "code",
   "execution_count": null,
   "metadata": {},
   "outputs": [],
   "source": [
    "sst.sel(time='1960-06-15').plot(vmin=-2, vmax=30)"
   ]
  },
  {
   "cell_type": "markdown",
   "metadata": {},
   "source": [
    "But we can select along any axis"
   ]
  },
  {
   "cell_type": "code",
   "execution_count": null,
   "metadata": {},
   "outputs": [],
   "source": [
    "sst.sel(lon=180).transpose().plot()"
   ]
  },
  {
   "cell_type": "code",
   "execution_count": null,
   "metadata": {},
   "outputs": [],
   "source": [
    "sst.sel(lon=180, lat=40).plot()"
   ]
  },
  {
   "cell_type": "markdown",
   "metadata": {},
   "source": [
    "### Label-Based Reduction Operations\n",
    "\n",
    "Usually the process of data analysis involves going from a big, multidimensional dataset to a few concise figures.\n",
    "Inevitably, the data must be \"reduced\" somehow. Examples of simple reduction operations include:\n",
    "\n",
    "- Mean\n",
    "- Standard Deviation\n",
    "- Minimum\n",
    "- Maximum\n",
    "\n",
    "etc. Xarray supports all of these and more, via a familiar numpy-like syntax. But with xarray, you can specify the reductions by dimension.\n",
    "\n",
    "First we start with the default, reduction over all dimensions:"
   ]
  },
  {
   "cell_type": "code",
   "execution_count": null,
   "metadata": {},
   "outputs": [],
   "source": [
    "sst.mean()"
   ]
  },
  {
   "cell_type": "code",
   "execution_count": null,
   "metadata": {},
   "outputs": [],
   "source": [
    "sst_time_mean = sst.mean(dim='time')\n",
    "sst_time_mean.plot(vmin=-2, vmax=30)"
   ]
  },
  {
   "cell_type": "code",
   "execution_count": null,
   "metadata": {},
   "outputs": [],
   "source": [
    "sst_zonal_mean = sst.mean(dim='lon')\n",
    "sst_zonal_mean.transpose().plot()"
   ]
  },
  {
   "cell_type": "code",
   "execution_count": null,
   "metadata": {},
   "outputs": [],
   "source": [
    "sst_time_and_zonal_mean = sst.mean(dim=('time', 'lon'))\n",
    "sst_time_and_zonal_mean.plot()"
   ]
  },
  {
   "cell_type": "code",
   "execution_count": null,
   "metadata": {},
   "outputs": [],
   "source": [
    "# some might prefer to have lat on the y axis\n",
    "sst_time_and_zonal_mean.plot(y='lat')"
   ]
  },
  {
   "cell_type": "markdown",
   "metadata": {},
   "source": [
    "### More Complicated Example: Weighted Mean\n",
    "\n",
    "The means we calculated above were \"naive\"; they were straightforward numerical means over the different dimensions of the dataset. They did not account, for example, for spherical geometry of the globe and the necessary weighting factors. Although xarray is very useful for geospatial analysis, **it has no built-in understanding of geography**.\n",
    "\n",
    "Below we show how to create a proper weighted mean by using the formula for the area element in spherical coordinates. This is a good illustration of several xarray concepts.\n",
    "\n",
    "The [area element for lat-lon coordinates](https://en.wikipedia.org/wiki/Spherical_coordinate_system#Integration_and_differentiation_in_spherical_coordinates) is\n",
    "\n",
    "$$ \\delta A = R^2 \\delta \\phi \\delta \\lambda \\cos(\\phi) $$\n",
    "\n",
    "where $\\phi$ is latitude, $\\delta \\phi$ is the spacing of the points in latitude, $\\delta \\lambda$ is the spacing of the points in longitude, and $R$ is Earth's radius. (In this formula, $\\phi$ and $\\lambda$ are measured in radians.) Let's use xarray to create the weight factor."
   ]
  },
  {
   "cell_type": "code",
   "execution_count": null,
   "metadata": {},
   "outputs": [],
   "source": [
    "R = 6.37e6\n",
    "# we know already that the spacing of the points is one degree latitude\n",
    "dϕ = np.deg2rad(1.)\n",
    "dλ = np.deg2rad(1.)\n",
    "dA = R**2 * dϕ * dλ * np.cos(np.deg2rad(ds.lat))\n",
    "dA.plot()"
   ]
  },
  {
   "cell_type": "code",
   "execution_count": null,
   "metadata": {},
   "outputs": [],
   "source": [
    "dA.where(sst[0].notnull())"
   ]
  },
  {
   "cell_type": "code",
   "execution_count": null,
   "metadata": {},
   "outputs": [],
   "source": [
    "pixel_area = dA.where(sst[0].notnull())\n",
    "pixel_area.plot()"
   ]
  },
  {
   "cell_type": "code",
   "execution_count": null,
   "metadata": {},
   "outputs": [],
   "source": [
    "total_ocean_area = pixel_area.sum(dim=('lon', 'lat'))\n",
    "sst_weighted_mean = (sst * pixel_area).sum(dim=('lon', 'lat')) / total_ocean_area\n",
    "sst_weighted_mean.plot()"
   ]
  },
  {
   "cell_type": "markdown",
   "metadata": {},
   "source": [
    "### Maps\n",
    "\n",
    "Xarray integrates with cartopy to enable you to plot your data on a map"
   ]
  },
  {
   "cell_type": "code",
   "execution_count": null,
   "metadata": {},
   "outputs": [],
   "source": [
    "import cartopy.crs as ccrs\n",
    "\n",
    "plt.figure(figsize=(12, 8))\n",
    "ax = plt.axes(projection=ccrs.InterruptedGoodeHomolosine())\n",
    "ax.coastlines()\n",
    "\n",
    "sst[0].plot(transform=ccrs.PlateCarree(), vmin=-2, vmax=30,\n",
    "            cbar_kwargs={'shrink': 0.4})"
   ]
  },
  {
   "cell_type": "markdown",
   "metadata": {},
   "source": [
    "## Opening Multi-file Datastores\n",
    "\n",
    "One of the most useful features of `xarray` is its ability to open datasets which are split or \"chunked\" across many files. This is very common in atmospheric/climate science, particularly because numerical models typically write out many fields but for a single time step. So what is often the case is that you may wish to read a small portion of a very large datastore, distributed across many files on disk.\n",
    "\n",
    "`xarray` provides a simple function, **open_mfdataset()**, which helps automate this very common task."
   ]
  },
  {
   "cell_type": "code",
   "execution_count": null,
   "metadata": {},
   "outputs": [],
   "source": [
    "ds_all = xr.open_mfdataset('../data/sst/*.nc').load()\n",
    "ds_all"
   ]
  },
  {
   "cell_type": "markdown",
   "metadata": {},
   "source": [
    "Now we have 57 years of data instead of one!"
   ]
  },
  {
   "cell_type": "markdown",
   "metadata": {},
   "source": [
    "## Groupby\n",
    "\n",
    "Now that we have a bigger dataset, this is a good time to check out xarray's groupby capabilities."
   ]
  },
  {
   "cell_type": "code",
   "execution_count": null,
   "metadata": {},
   "outputs": [],
   "source": [
    "sst_clim = ds_all.sst.groupby('time.month').mean(dim='time')\n",
    "sst_clim"
   ]
  },
  {
   "cell_type": "markdown",
   "metadata": {},
   "source": [
    "Now the data has dimension `month` instead of time!\n",
    "Each value represents the average among all of the Januaries, Februaries, etc. in the dataset."
   ]
  },
  {
   "cell_type": "code",
   "execution_count": null,
   "metadata": {},
   "outputs": [],
   "source": [
    "(sst_clim[6] - sst_clim[0]).plot()\n",
    "plt.title('June minus July SST Climatology')"
   ]
  },
  {
   "cell_type": "markdown",
   "metadata": {},
   "source": [
    "## Resample and Rolling\n",
    "\n",
    "Resample is meant specifically to work with time data (data with a `datetime64` variable as a dimension).\n",
    "It allows you to change the time-sampling frequency of your data.\n",
    "\n",
    "Let's illustrate by selecting a single point."
   ]
  },
  {
   "cell_type": "code",
   "execution_count": null,
   "metadata": {},
   "outputs": [],
   "source": [
    "sst_ts = ds_all.sst.sel(lon=300, lat=10)\n",
    "sst_ts_annual = sst_ts.resample(time='A').mean(dim='time')\n",
    "sst_ts_annual"
   ]
  },
  {
   "cell_type": "code",
   "execution_count": null,
   "metadata": {},
   "outputs": [],
   "source": [
    "sst_ts.plot()\n",
    "sst_ts_annual.plot()"
   ]
  },
  {
   "cell_type": "markdown",
   "metadata": {},
   "source": [
    "An alternative approach is a \"running mean\" over the time dimension.\n",
    "This can be accomplished with xarray's `.rolling` operation."
   ]
  },
  {
   "cell_type": "code",
   "execution_count": null,
   "metadata": {},
   "outputs": [],
   "source": [
    "sst_ts_rolling = sst_ts.rolling(time=24).mean(dim='time', centered=True)\n",
    "sst_ts_annual.plot(marker='o')\n",
    "sst_ts_rolling.plot()"
   ]
  }
 ],
 "metadata": {
  "kernelspec": {
   "display_name": "Python 3",
   "language": "python",
   "name": "python3"
  },
  "language_info": {
   "codemirror_mode": {
    "name": "ipython",
    "version": 3
   },
   "file_extension": ".py",
   "mimetype": "text/x-python",
   "name": "python",
   "nbconvert_exporter": "python",
   "pygments_lexer": "ipython3",
   "version": "3.6.6"
  }
 },
 "nbformat": 4,
 "nbformat_minor": 2
}
